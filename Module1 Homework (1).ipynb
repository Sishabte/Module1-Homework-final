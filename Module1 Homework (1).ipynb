{
 "cells": [
  {
   "cell_type": "markdown",
   "metadata": {},
   "source": [
    "1. Print out your favorite color and write comment about what you are doing above the code."
   ]
  },
  {
   "cell_type": "code",
   "execution_count": 14,
   "metadata": {},
   "outputs": [
    {
     "name": "stdout",
     "output_type": "stream",
     "text": [
      "Green\n"
     ]
    }
   ],
   "source": [
    "print(\"Green\")\n",
    "\n",
    "## I am printing out my favorite color which is Green.\n"
   ]
  },
  {
   "cell_type": "markdown",
   "metadata": {},
   "source": [
    "2. Print the sumation of numbers 1 through 10"
   ]
  },
  {
   "cell_type": "code",
   "execution_count": 15,
   "metadata": {},
   "outputs": [
    {
     "name": "stdout",
     "output_type": "stream",
     "text": [
      "55\n"
     ]
    }
   ],
   "source": [
    "print(1+2+3+4+5+6+7+8+9+10)"
   ]
  },
  {
   "cell_type": "markdown",
   "metadata": {},
   "source": [
    "3. Print what 2 to the 8th power is."
   ]
  },
  {
   "cell_type": "code",
   "execution_count": 16,
   "metadata": {},
   "outputs": [
    {
     "name": "stdout",
     "output_type": "stream",
     "text": [
      "256\n"
     ]
    }
   ],
   "source": [
    "print(2**8)"
   ]
  },
  {
   "cell_type": "markdown",
   "metadata": {},
   "source": [
    "4. Print the remainder of 100 divided by 11. "
   ]
  },
  {
   "cell_type": "code",
   "execution_count": 17,
   "metadata": {},
   "outputs": [
    {
     "name": "stdout",
     "output_type": "stream",
     "text": [
      "1\n"
     ]
    }
   ],
   "source": [
    "print(100%11)"
   ]
  },
  {
   "cell_type": "markdown",
   "metadata": {},
   "source": [
    "5. What is the result of adding strings: 20, 8, 77?"
   ]
  },
  {
   "cell_type": "code",
   "execution_count": 18,
   "metadata": {},
   "outputs": [
    {
     "name": "stdout",
     "output_type": "stream",
     "text": [
      "20877\n"
     ]
    }
   ],
   "source": [
    "print(\"20\"+\"8\"+\"77\")"
   ]
  },
  {
   "cell_type": "markdown",
   "metadata": {},
   "source": [
    "6. Print out 100 divided by 5"
   ]
  },
  {
   "cell_type": "code",
   "execution_count": 19,
   "metadata": {},
   "outputs": [
    {
     "name": "stdout",
     "output_type": "stream",
     "text": [
      "20.0\n"
     ]
    }
   ],
   "source": [
    "print(100/5)"
   ]
  },
  {
   "cell_type": "markdown",
   "metadata": {},
   "source": [
    "7. What is the difference (subtraction) between 10/4 and 10//4?  Print out the result"
   ]
  },
  {
   "cell_type": "code",
   "execution_count": 20,
   "metadata": {},
   "outputs": [
    {
     "name": "stdout",
     "output_type": "stream",
     "text": [
      "0.5\n"
     ]
    }
   ],
   "source": [
    "\n",
    "num1 = 10/4\n",
    "num2 = 10//4\n",
    "print(num1 - num2)"
   ]
  },
  {
   "cell_type": "markdown",
   "metadata": {},
   "source": [
    "8. Create a variable called height and store your height value there.\n",
    "Print a sentence describing your height and use the variable in the sentence as well."
   ]
  },
  {
   "cell_type": "code",
   "execution_count": null,
   "metadata": {},
   "outputs": [],
   "source": [
    "height = \"1.70 meter\"\n",
    "\n",
    "print(\"My height is:,\", height)"
   ]
  },
  {
   "cell_type": "markdown",
   "metadata": {},
   "source": [
    "9. Print the same information as exercise 8 using a formatted string. "
   ]
  },
  {
   "cell_type": "code",
   "execution_count": 21,
   "metadata": {},
   "outputs": [
    {
     "name": "stdout",
     "output_type": "stream",
     "text": [
      "My height is 1.70 meter. \n"
     ]
    }
   ],
   "source": [
    "print(f\"My height is {height}. \")"
   ]
  },
  {
   "cell_type": "markdown",
   "metadata": {},
   "source": [
    "10. Use two different (single and double) quotes in a string to print out a sentence"
   ]
  },
  {
   "cell_type": "code",
   "execution_count": 22,
   "metadata": {},
   "outputs": [
    {
     "name": "stdout",
     "output_type": "stream",
     "text": [
      "\"Thank you!\", you welcome!\n"
     ]
    }
   ],
   "source": [
    "print('\"Thank you!\", you welcome!')"
   ]
  },
  {
   "cell_type": "markdown",
   "metadata": {},
   "source": [
    "11. Print out Hello World! 7 times each on a new line using only one line of code."
   ]
  },
  {
   "cell_type": "code",
   "execution_count": 23,
   "metadata": {},
   "outputs": [
    {
     "name": "stdout",
     "output_type": "stream",
     "text": [
      "Hello World,Hello World,Hello World,Hello World,Hello World,Hello World,Hello World,\n"
     ]
    }
   ],
   "source": [
    "print(f\"Hello World\" \",\" * 7)"
   ]
  },
  {
   "cell_type": "code",
   "execution_count": 24,
   "metadata": {},
   "outputs": [
    {
     "name": "stdout",
     "output_type": "stream",
     "text": [
      "Hello World\n",
      "Hello World\n",
      "Hello World\n",
      "Hello World\n",
      "Hello World\n",
      "Hello World\n",
      "Hello World\n",
      "\n"
     ]
    }
   ],
   "source": [
    "print(f\"Hello World\\n\" * 7)"
   ]
  },
  {
   "cell_type": "markdown",
   "metadata": {},
   "source": [
    "12. Write a code to get two integers from a user. Then print out their summation, subtraction, multiplication, and division."
   ]
  },
  {
   "cell_type": "code",
   "execution_count": 28,
   "metadata": {},
   "outputs": [
    {
     "name": "stdout",
     "output_type": "stream",
     "text": [
      "Please enter a number:\t9\n",
      "Please enter another number:\t7\n",
      "Sum:\t 9 + 7 = 16\n",
      "Subtraction:\t 9 - 7 = 2\n",
      "Multiplication:\t 9 * 7 = 63\n",
      "Division:\t 9 / 7 = 1.2857142857142858\n"
     ]
    }
   ],
   "source": [
    "n1 = int(input(\"Please enter a number:\\t\"))\n",
    "n2 = int(input(\"Please enter another number:\\t\"))\n",
    "\n",
    " \n",
    "print(f\"Sum:\\t {n1} + {n2} = {n1 + n2}\")\n",
    "print(f\"Subtraction:\\t {n1} - {n2} = {n1 - n2}\")\n",
    "print(f\"Multiplication:\\t {n1} * {n2} = {n1 * n2}\")\n",
    "print(f\"Division:\\t {n1} / {n2} = {n1 / n2}\")\n",
    "\n",
    "\n"
   ]
  },
  {
   "cell_type": "markdown",
   "metadata": {},
   "source": [
    "13. You and your collegue have been tasked to write a code to get 5 numbers from a user and then print out their summation and average in a formatted string.  Your partner wrote codes below.  Now it is up to you to fix all errors."
   ]
  },
  {
   "cell_type": "code",
   "execution_count": null,
   "metadata": {},
   "outputs": [],
   "source": [
    "## original \n",
    "\n",
    "#prompt = f\"Enter a number: \"\n",
    "\n",
    "#numb1 = input(''Enter a number: \")\n",
    "#numb2 = input(\"Enter a number: \")\n",
    "#numb1 = input(\"Enter a number: \")\n",
    "#numb2 = input(\"Enter a number: \")\n",
    "#num85 = input(\"Enter a number: \"))\n",
    "\n",
    "#total = numb1 + numb2 + numb3 + numb4 + numb5\n",
    "#avg = total // 5\n",
    "\n",
    "#print(\"{numb1} + {numb2} + {numb3} + {numb4} + {numb5} = {total}\")\n",
    "#print(\"average\")"
   ]
  },
  {
   "cell_type": "code",
   "execution_count": 29,
   "metadata": {},
   "outputs": [
    {
     "name": "stdout",
     "output_type": "stream",
     "text": [
      "Enter a number: 4\n",
      "Enter a number: 7\n",
      "Enter a number: 9\n",
      "Enter a number: 15\n",
      "Enter a number: 21\n",
      "The sum is 4 + 7 + 9 + 15 + 21 = 56\n",
      "Average is 11.2\n"
     ]
    }
   ],
   "source": [
    "## modified \n",
    "\n",
    "prompt = \"Enter a number: \"\n",
    "\n",
    "numb1 = int(input(prompt))\n",
    "numb2 = int(input(prompt))\n",
    "numb3 = int(input(prompt))\n",
    "numb4 = int(input(prompt))\n",
    "numb5 = int(input(prompt))\n",
    "\n",
    "total = numb1 + numb2 + numb3 + numb4 + numb5\n",
    "avg = total / 5\n",
    "\n",
    "print(f\"The sum is {numb1} + {numb2} + {numb3} + {numb4} + {numb5} = {total}\")\n",
    "print(f\"Average is {avg}\")\n",
    "\n"
   ]
  },
  {
   "cell_type": "markdown",
   "metadata": {},
   "source": [
    "14. You and your partner have been assigned to a project to write a program to calculate the amount of runoff rain on a roof from any given rainfall.  \n",
    "\n",
    "You and your partner have figured out that to calculate the runoff from any given rainfall. \n",
    "\n",
    "You need to take the dimensions of the footprint of the roof and <b>convert them to inches</b> (ex - a 50' x 20' roof is 600\" x 240\"). The dimensions should be user submitted. \n",
    "\n",
    "Then, multiply the roof dimensions by the number of inches of rainfall. As an example, 600\" x 240\" x 1\" = 144,000 cubic inches of water for an inch of rainfall. Finally, divide that result by 231 to get the number of gallons (because 1 gallon = 231 cubic inches; 144,000/231 = 623.38).\n",
    "\n",
    "Your partner started coding before getting sick and it is up to you to finish the program."
   ]
  },
  {
   "cell_type": "code",
   "execution_count": 31,
   "metadata": {},
   "outputs": [
    {
     "name": "stdout",
     "output_type": "stream",
     "text": [
      "\n",
      "Rainfall Calculation\n",
      "\n",
      "Please enter the length of the roof (in feet):  25\n",
      "Please enter the width of the roof (in feet):  15\n",
      "Please enter the amount of rain that was received (in inches):  5\n",
      "\n",
      "The amount of runoff rain is 1168.83 gallons.\n"
     ]
    }
   ],
   "source": [
    "print(\"\\nRainfall Calculation\\n\")\n",
    "\n",
    "length = float(input(\"Please enter the length of the roof (in feet):  \"))\n",
    "width = float(input(\"Please enter the width of the roof (in feet):  \"))\n",
    "rain = float(input(\"Please enter the amount of rain that was received (in inches):  \"))\n",
    "\n",
    "total_rain = (length * 12) * (width * 12) * (rain) \n",
    "gallons = total_rain / 231\n",
    "\n",
    "print(f\"\\nThe amount of runoff rain is {gallons:.2f} gallons.\")\n",
    "\n",
    "\n",
    "\n",
    "\n",
    "    "
   ]
  },
  {
   "cell_type": "markdown",
   "metadata": {},
   "source": [
    "15. A program is required to get a customer’s name, a purchase amount and a discount rate (in %). The program must compute the discount amount, sales tax (6%) and the total amount due. Using one print statement, print the customer’s name, purchase amount, discount amount, sales tax and total amount due in friendly format."
   ]
  },
  {
   "cell_type": "code",
   "execution_count": 39,
   "metadata": {},
   "outputs": [
    {
     "name": "stdout",
     "output_type": "stream",
     "text": [
      "Customer Purchase Information Program\n",
      "\n",
      "Please enter your name:\tEshetu\n",
      "Please enter your purchase amount:75\n",
      "Please enter your discount rate (%):25\n",
      "\n",
      "Amount:\t\t$75.00\n",
      "Discount:\t$18.75\n",
      "------------------------------\n",
      "Subtotal:\t$56.25\n",
      "Sales Tax:\t$3.38\n",
      "==============================\n",
      "Total:\t\t$59.62\n"
     ]
    }
   ],
   "source": [
    "print(f\"Customer Purchase Information Program\\n\")\n",
    "\n",
    "# get customer details and purchase information \n",
    "\n",
    "name = input(\"Please enter your name:\\t\")\n",
    "amount = float(input(\"Please enter your purchase amount:\"))\n",
    "discount = float(input(\"Please enter your discount rate (%):\")) / 100 ## ensure number is in the right format \n",
    "tax = 0.06\n",
    "\n",
    "## compute discount and totals\n",
    "\n",
    "discount_amount = amount * discount\n",
    "subtotal = amount - discount_amount\n",
    "sales_tax = subtotal * tax\n",
    "total = subtotal + sales_tax\n",
    "\n",
    "## print out customer receipt\n",
    "\n",
    "print(f\"\\nAmount:\\t\\t${amount:.2f}\")\n",
    "print(f\"Discount:\\t${discount_amount:.2f}\")\n",
    "print(\"-\" * 30)\n",
    "print(f\"Subtotal:\\t${subtotal:.2f}\")\n",
    "print(f\"Sales Tax:\\t${sales_tax:.2f}\")\n",
    "print(\"=\" * 30)\n",
    "print(f\"Total:\\t\\t${total:.2f}\")\n",
    "\n",
    "\n"
   ]
  },
  {
   "cell_type": "code",
   "execution_count": null,
   "metadata": {},
   "outputs": [],
   "source": []
  }
 ],
 "metadata": {
  "kernelspec": {
   "display_name": "Python 3",
   "language": "python",
   "name": "python3"
  },
  "language_info": {
   "codemirror_mode": {
    "name": "ipython",
    "version": 3
   },
   "file_extension": ".py",
   "mimetype": "text/x-python",
   "name": "python",
   "nbconvert_exporter": "python",
   "pygments_lexer": "ipython3",
   "version": "3.8.8"
  }
 },
 "nbformat": 4,
 "nbformat_minor": 4
}
